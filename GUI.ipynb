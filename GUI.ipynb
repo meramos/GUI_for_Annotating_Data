{
 "cells": [
  {
   "cell_type": "markdown",
   "metadata": {},
   "source": [
    "references:\n",
    "* https://stackoverflow.com/questions/43009527/how-to-insert-an-image-in-a-canvas-item\n",
    "* https://stackoverflow.com/questions/47357090/tkinter-error-couldnt-recognize-data-in-image-file\n",
    "* https://stackoverflow.com/questions/44835909/cannot-import-name-imagetk-python-3-5\n",
    "* https://yagisanatode.com/2018/02/23/how-do-i-change-the-size-and-position-of-the-main-window-in-tkinter-and-python-3/\n",
    "* https://stackoverflow.com/questions/6444548/how-do-i-get-the-picture-size-with-pil\n",
    "* https://www.geeksforgeeks.org/python-gui-tkinter/\n",
    "* https://stackoverflow.com/questions/19477636/does-tkinter-have-a-refresh-method\n",
    "* https://stackoverflow.com/questions/17770728/python-image-not-being-drawn-on-canvas\n",
    "* https://stackoverflow.com/questions/32936408/python-2-7-tkinter-how-to-change-text-color-of-a-buttons-text"
   ]
  },
  {
   "cell_type": "code",
   "execution_count": 1,
   "metadata": {},
   "outputs": [],
   "source": [
    "import tkinter as tk\n",
    "import os\n",
    "from PIL import Image, ImageTk\n",
    "import shutil"
   ]
  },
  {
   "cell_type": "code",
   "execution_count": 175,
   "metadata": {},
   "outputs": [],
   "source": [
    "class ManualClassification():\n",
    "    \n",
    "    def __init__(self, images_path, classes):\n",
    "        self.images_path = images_path # location of images to classify\n",
    "        self.classes = classes # classes to use for classification\n",
    "        \n",
    "        self.image_count = 0 # keep track of index in images list (defined below)\n",
    "        \n",
    "        # save list of strings, where each element is the full path of an image to be classified\n",
    "        self.images = [os.path.join(images_path,img) for img in os.listdir(images_path)]\n",
    "        \n",
    "        # Dimensions of tkinter window\n",
    "        self.window_width = 1000\n",
    "        self.window_height = 1000\n",
    "        \n",
    "        self.data = dict()\n",
    "        for Class in self.classes:\n",
    "            self.data[Class] = []\n",
    "        \n",
    "    def create_window(self):\n",
    "        \n",
    "        # Create Tkinter window, specify window size\n",
    "        self.main_window = tk.Tk()\n",
    "        self.main_window.geometry(str(self.window_width)+\"x\"+str(self.window_height))\n",
    "\n",
    "        # Add title to the window\n",
    "        self.main_window.title(\"Label Data\")\n",
    "        \n",
    "        # Create the canvas (where image will get shown). Size in pixels.\n",
    "        self.canvas = tk.Canvas(self.main_window, width=300, height=200)\n",
    "\n",
    "        # Pack the canvas into a frame/form\n",
    "        self.canvas.pack(expand=tk.YES, fill=tk.BOTH)\n",
    "\n",
    "        # load the image file\n",
    "        photo = self.get_image()\n",
    "\n",
    "        # Put image on canvas\n",
    "        # pic's upper left corner (NW) on the canvas is at x=50 y=10\n",
    "        self.image_on_canvas = self.canvas.create_image(50, 10, image=photo, \n",
    "                                      anchor=tk.NW)\n",
    "        \n",
    "        # Create folders and buttons per class. Will store classified images into respective folders.\n",
    "        for Class in self.classes:\n",
    "            if not os.path.exists(Class):\n",
    "                os.mkdir(Class)\n",
    "            self.create_button(Class, lambda:self.mark_class(Class))\n",
    "            \n",
    "        # Create a skip button in case user wants to disregard (not classify) an image shown\n",
    "        self.create_button(\"SKIP\", self.next_image, \"blue\", \"blue3\", \"white\")\n",
    "            \n",
    "        # Create a quit button so user may exit the application\n",
    "        self.create_button(\"QUIT\", self.main_window.destroy, \"red\", \"red3\", \"white\")\n",
    "        \n",
    "        self.main_window.mainloop()\n",
    "        \n",
    "    def get_image(self):\n",
    "        \n",
    "        # Get path to image from list of paths\n",
    "        image_path = self.images[self.image_count]\n",
    "        \n",
    "        # Load image\n",
    "        image = Image.open(image_path)\n",
    "        \n",
    "        print(\"Image path:\",image_path)\n",
    "        \n",
    "        # Resize/scale image so it fits the GUI window\n",
    "        width, height = image.size\n",
    "        scale = max(height,width)/(self.window_height - (self.window_height/7))\n",
    "        image = image.resize((int(width/scale), int(height/scale)))\n",
    "        \n",
    "        # Turn image into a Tkinter-compatible photo image\n",
    "        compatible_image = ImageTk.PhotoImage(image)\n",
    "        \n",
    "        return compatible_image\n",
    "    \n",
    "    def create_button(self, text, command, activebg=None, bg=None, fg=None):\n",
    "    \n",
    "        button = tk.Button(self.main_window, text=text, \n",
    "                           width=25, command= command, \n",
    "                           activebackground=activebg, bg=bg, fg=fg)\n",
    "        button.pack()\n",
    "        \n",
    "    def mark_class(self, Class):\n",
    "        \n",
    "        # copy image to class folder\n",
    "        shutil.copy(self.images[self.image_count], Class)\n",
    "        \n",
    "        # add image path to class key in data dictionary\n",
    "        self.data[Class].append(self.images[self.image_count])\n",
    "        \n",
    "        # show next image\n",
    "        self.next_image()\n",
    "        \n",
    "    def next_image(self):\n",
    "        \n",
    "        # show next image\n",
    "        self.image_count += 1\n",
    "        \n",
    "        #global new_image \n",
    "        self.new_image = self.get_image()\n",
    "        self.canvas.itemconfigure(self.image_on_canvas, image = self.new_image)"
   ]
  },
  {
   "cell_type": "code",
   "execution_count": 176,
   "metadata": {},
   "outputs": [],
   "source": [
    "classes = [\"crowd\"]\n",
    "images_path = \"/home/mramos/Documents/Git/RickyRenuncia_Protests/downloaded_media\""
   ]
  },
  {
   "cell_type": "code",
   "execution_count": 177,
   "metadata": {},
   "outputs": [],
   "source": [
    "app = ManualClassification(images_path,classes)"
   ]
  },
  {
   "cell_type": "code",
   "execution_count": 178,
   "metadata": {},
   "outputs": [],
   "source": [
    "app.create_window()"
   ]
  },
  {
   "cell_type": "code",
   "execution_count": 87,
   "metadata": {},
   "outputs": [
    {
     "data": {
      "text/plain": [
       "{'crowd': ['/home/mramos/Documents/Git/RickyRenuncia_Protests/downloaded_media/1152423549623263232.jpg']}"
      ]
     },
     "execution_count": 87,
     "metadata": {},
     "output_type": "execute_result"
    }
   ],
   "source": [
    "app.data"
   ]
  },
  {
   "cell_type": "code",
   "execution_count": 179,
   "metadata": {},
   "outputs": [
    {
     "ename": "NameError",
     "evalue": "name 'self' is not defined",
     "output_type": "error",
     "traceback": [
      "\u001b[0;31m---------------------------------------------------------------------------\u001b[0m",
      "\u001b[0;31mNameError\u001b[0m                                 Traceback (most recent call last)",
      "\u001b[0;32m<ipython-input-179-ea7cb183dd84>\u001b[0m in \u001b[0;36m<module>\u001b[0;34m\u001b[0m\n\u001b[1;32m      1\u001b[0m \u001b[0;31m# Create a save button\u001b[0m\u001b[0;34m\u001b[0m\u001b[0;34m\u001b[0m\u001b[0;34m\u001b[0m\u001b[0m\n\u001b[0;32m----> 2\u001b[0;31m \u001b[0mself\u001b[0m\u001b[0;34m.\u001b[0m\u001b[0mcreate_button\u001b[0m\u001b[0;34m(\u001b[0m\u001b[0;34m\"SAVE\"\u001b[0m\u001b[0;34m,\u001b[0m \u001b[0;32mlambda\u001b[0m\u001b[0;34m:\u001b[0m\u001b[0mself\u001b[0m\u001b[0;34m.\u001b[0m\u001b[0msave\u001b[0m\u001b[0;34m(\u001b[0m\u001b[0;34m)\u001b[0m\u001b[0;34m,\u001b[0m \u001b[0;34m\"green\"\u001b[0m\u001b[0;34m,\u001b[0m \u001b[0;34m\"green3\"\u001b[0m\u001b[0;34m,\u001b[0m \u001b[0;34m\"white\"\u001b[0m\u001b[0;34m)\u001b[0m\u001b[0;34m\u001b[0m\u001b[0;34m\u001b[0m\u001b[0m\n\u001b[0m",
      "\u001b[0;31mNameError\u001b[0m: name 'self' is not defined"
     ]
    }
   ],
   "source": [
    "        # Create a save button\n",
    "        self.create_button(\"SAVE\", lambda:self.save(), \"green\", \"green3\", \"white\")\n",
    "        \n",
    "    def save(self):\n",
    "        print(\"saved\")"
   ]
  },
  {
   "cell_type": "code",
   "execution_count": 180,
   "metadata": {},
   "outputs": [],
   "source": [
    "#         self.L1 = tk.Label(self.main_window, text=\"User Name\")\n",
    "#         self.L1.pack( side = tk.LEFT)\n",
    "#         self.E1 = tk.Entry(self.main_window, bd =5)\n",
    "#         self.E1.pack(side = tk.RIGHT)\n",
    "        \n",
    "#         self.create_button(\"SUBMIT\", lambda:self.next_screen())\n",
    "        \n",
    "#         self.main_window.mainloop()\n",
    "\n",
    "#         return\n",
    "    \n",
    "    \n",
    "#     def next_screen(self):\n",
    "#         self.L1.pack_forget()\n",
    "#         self.E1.pack_forget()\n",
    "    "
   ]
  },
  {
   "cell_type": "code",
   "execution_count": null,
   "metadata": {},
   "outputs": [],
   "source": []
  }
 ],
 "metadata": {
  "kernelspec": {
   "display_name": "Python 3",
   "language": "python",
   "name": "python3"
  },
  "language_info": {
   "codemirror_mode": {
    "name": "ipython",
    "version": 3
   },
   "file_extension": ".py",
   "mimetype": "text/x-python",
   "name": "python",
   "nbconvert_exporter": "python",
   "pygments_lexer": "ipython3",
   "version": "3.6.9"
  }
 },
 "nbformat": 4,
 "nbformat_minor": 2
}
